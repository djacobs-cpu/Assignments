{
 "cells": [
  {
   "cell_type": "markdown",
   "metadata": {},
   "source": [
    "Connected to Python 3.13.1"
   ]
  },
  {
   "cell_type": "code",
   "execution_count": null,
   "id": "821a1a04-cc77-49c7-ba33-5bcbb6b6fba3",
   "metadata": {},
   "outputs": [
    {
     "data": {
      "text/plain": [
       "'\\n\\nWelcome to week 3!\\n\\nPlease review and run the following code to see how conditionals and loops work!\\n\\nYou can play around with the value(s) to have hte program show different branches!\\n\\n'"
      ]
     },
     "execution_count": 11,
     "metadata": {},
     "output_type": "execute_result"
    }
   ],
   "source": [
    "#\n",
    "\n",
    "'''\n",
    "\n",
    "Welcome to week 3!\n",
    "\n",
    "Please review and run the following code to see how conditionals and loops work!\n",
    "\n",
    "You can play around with the value(s) to have hte program show different branches!\n",
    "\n",
    "'''"
   ]
  },
  {
   "cell_type": "code",
   "execution_count": null,
   "id": "b14fdb36-0b44-4a75-bcf5-678bd1ab66a3",
   "metadata": {},
   "outputs": [
    {
     "name": "stdout",
     "output_type": "stream",
     "text": [
      "0 is even!\n",
      "1 is an odd number!\n",
      "2 is even!\n",
      "3 is an odd number!\n",
      "4 is even!\n",
      "5 is an odd number!\n",
      "6 is even!\n",
      "7 is an odd number!\n",
      "8 is even!\n",
      "9 is an odd number!\n",
      "Done!\n"
     ]
    }
   ],
   "source": [
    "# Looping Function\n",
    "\n",
    "def loop_function(x):\n",
    "\n",
    "    # Here is an example of a \"for\" loop\n",
    "    for i in range(x):\n",
    "\n",
    "        # Here is an example of a conditional statement\n",
    "        # If hte remainder of i divided by 2 is 0, then it is an even number\n",
    "        if i % 2 == 0:\n",
    "            print(i, \"is even!\")\n",
    "        else:\n",
    "            print(i, \"is an odd number!\")\n",
    "\n",
    "    print(\"Done!\")\n",
    "\n",
    "\n",
    "number_of_loops = 10\n",
    "\n",
    "loop_function(number_of_loops)"
   ]
  },
  {
   "cell_type": "code",
   "execution_count": null,
   "id": "592fecfb-1f79-434d-95b5-e8fc790b234e",
   "metadata": {},
   "outputs": [
    {
     "data": {
      "text/plain": [
       "'\\n\\nWelcome to week 3!\\n\\nPlease review and run the following code to see how conditionals and loops work!\\n\\nYou can play around with the value(s) to have hte program show different branches!\\n\\n'"
      ]
     },
     "execution_count": 13,
     "metadata": {},
     "output_type": "execute_result"
    }
   ],
   "source": [
    "#\n",
    "\n",
    "'''\n",
    "\n",
    "Welcome to week 3!\n",
    "\n",
    "Please review and run the following code to see how conditionals and loops work!\n",
    "\n",
    "You can play around with the value(s) to have hte program show different branches!\n",
    "\n",
    "'''"
   ]
  },
  {
   "cell_type": "code",
   "execution_count": null,
   "id": "15a6aca2-b148-4f06-bad6-d01e34ddb6a3",
   "metadata": {},
   "outputs": [
    {
     "name": "stdout",
     "output_type": "stream",
     "text": [
      "0 is even!\n",
      "1 is an odd number!\n",
      "2 is even!\n",
      "3 is an odd number!\n",
      "4 is even!\n",
      "5 is an odd number!\n",
      "6 is even!\n",
      "7 is an odd number!\n",
      "8 is even!\n",
      "9 is an odd number!\n",
      "Done!\n"
     ]
    }
   ],
   "source": [
    "# Looping Function\n",
    "\n",
    "def loop_function(x):\n",
    "\n",
    "    # Here is an example of a \"for\" loop\n",
    "    for i in range(x):\n",
    "\n",
    "        # Here is an example of a conditional statement\n",
    "        # If hte remainder of i divided by 2 is 0, then it is an even number\n",
    "        if i % 2 == 0:\n",
    "            print(i, \"is even!\")\n",
    "        else:\n",
    "            print(i, \"is an odd number!\")\n",
    "\n",
    "    print(\"Done!\")\n",
    "\n",
    "\n",
    "number_of_loops = 10\n",
    "\n",
    "loop_function(number_of_loops)"
   ]
  },
  {
   "cell_type": "code",
   "execution_count": null,
   "id": "6740e18c-2690-4923-a9ea-f1226b94fb49",
   "metadata": {},
   "outputs": [
    {
     "name": "stdout",
     "output_type": "stream",
     "text": [
      "0 is even!\n",
      "1 is odd!\n",
      "2 is even!\n",
      "3 is odd!\n",
      "4 is even!\n",
      "5 is odd!\n",
      "6 is even!\n",
      "7 is odd!\n",
      "8 is even!\n",
      "9 is odd!\n",
      "Done!\n"
     ]
    }
   ],
   "source": [
    "# Looping Function\n",
    "\n",
    "def loop_function(x):\n",
    "    # Here is an example of a \"for\" loop\n",
    "    for i in range(x):\n",
    "        # Here is an example of a conditional statement\n",
    "        # If the remainder of i divided by 2 is 0, then it is an even number\n",
    "        if i % 2 == 0:\n",
    "            print(i, \"is even!\")\n",
    "        else:\n",
    "            print(i, \"is odd!\")\n",
    "\n",
    "    print(\"Done!\")\n",
    "\n",
    "# Define the number of loops\n",
    "number_of_loops = 10\n",
    "\n",
    "# Call the function with the specified number of loops\n",
    "loop_function(number_of_loops)"
   ]
  },
  {
   "cell_type": "code",
   "execution_count": null,
   "id": "658c9648-4e10-4330-bf08-c67f2aa9ac4b",
   "metadata": {},
   "outputs": [
    {
     "data": {
      "text/plain": [
       "\"\\nPlease The following code SHOULD run and FINISH...but doesn't\\n\\nThis is an example of an infinite loop.  This is NOT a good thing to \\nhave in your code.  It will cause your code to run forever and never\\nfinish.  This is a problem because it will cause your code to use up\\nall of the resources on your computer and cause it to crash.\\n\\nPlease fix the code so that it runs and finishes.\\n\\nYou should only need to change two lines of code to fix this problem!\\n\""
      ]
     },
     "execution_count": 16,
     "metadata": {},
     "output_type": "execute_result"
    }
   ],
   "source": [
    "'''\n",
    "Please The following code SHOULD run and FINISH...but doesn't\n",
    "\n",
    "This is an example of an infinite loop.  This is NOT a good thing to \n",
    "have in your code.  It will cause your code to run forever and never\n",
    "finish.  This is a problem because it will cause your code to use up\n",
    "all of the resources on your computer and cause it to crash.\n",
    "\n",
    "Please fix the code so that it runs and finishes.\n",
    "\n",
    "You should only need to change two lines of code to fix this problem!\n",
    "'''"
   ]
  },
  {
   "cell_type": "code",
   "execution_count": null,
   "id": "2c61c2b6-3b34-42b8-9960-478febc087a4",
   "metadata": {},
   "outputs": [
    {
     "data": {
      "text/plain": [
       "'\\n\\nWelcome to week 3!\\n\\nPlease review and run the following code to see how conditionals and loops work!\\n\\nYou can play around with the value(s) to have hte program show different branches!\\n\\n'"
      ]
     },
     "execution_count": 18,
     "metadata": {},
     "output_type": "execute_result"
    }
   ],
   "source": [
    "#\n",
    "\n",
    "'''\n",
    "\n",
    "Welcome to week 3!\n",
    "\n",
    "Please review and run the following code to see how conditionals and loops work!\n",
    "\n",
    "You can play around with the value(s) to have hte program show different branches!\n",
    "\n",
    "'''"
   ]
  },
  {
   "cell_type": "code",
   "execution_count": null,
   "id": "ec109a0b-184b-487b-b43f-8fc2cbb57070",
   "metadata": {},
   "outputs": [
    {
     "name": "stdout",
     "output_type": "stream",
     "text": [
      "0 is even!\n",
      "1 is an odd number!\n",
      "2 is even!\n",
      "3 is an odd number!\n",
      "4 is even!\n",
      "5 is an odd number!\n",
      "6 is even!\n",
      "7 is an odd number!\n",
      "8 is even!\n",
      "9 is an odd number!\n",
      "Done!\n"
     ]
    }
   ],
   "source": [
    "# Looping Function\n",
    "\n",
    "def loop_function(x):\n",
    "\n",
    "    # Here is an example of a \"for\" loop\n",
    "    for i in range(x):\n",
    "\n",
    "        # Here is an example of a conditional statement\n",
    "        # If hte remainder of i divided by 2 is 0, then it is an even number\n",
    "        if i % 2 == 0:\n",
    "            print(i, \"is even!\")\n",
    "        else:\n",
    "            print(i, \"is an odd number!\")\n",
    "\n",
    "    print(\"Done!\")\n",
    "\n",
    "\n",
    "number_of_loops = 10\n",
    "\n",
    "loop_function(number_of_loops)"
   ]
  },
  {
   "cell_type": "code",
   "execution_count": null,
   "id": "f04bebe8-011f-4570-bd71-c6b4b4436603",
   "metadata": {},
   "outputs": [
    {
     "name": "stdout",
     "output_type": "stream",
     "text": [
      "0 is even!\n",
      "1 is odd!\n",
      "2 is even!\n",
      "3 is odd!\n",
      "4 is even!\n",
      "5 is odd!\n",
      "6 is even!\n",
      "7 is odd!\n",
      "8 is even!\n",
      "9 is odd!\n",
      "Done!\n"
     ]
    }
   ],
   "source": [
    "# Looping Function\n",
    "\n",
    "def loop_function(x):\n",
    "    # Here is an example of a \"for\" loop\n",
    "    for i in range(x):\n",
    "        # Here is an example of a conditional statement\n",
    "        # If the remainder of i divided by 2 is 0, then it is an even number\n",
    "        if i % 2 == 0:\n",
    "            print(i, \"is even!\")\n",
    "        else:\n",
    "            print(i, \"is odd!\")\n",
    "\n",
    "    print(\"Done!\")\n",
    "\n",
    "# Define the number of loops\n",
    "number_of_loops = 10\n",
    "\n",
    "# Call the function with the specified number of loops\n",
    "loop_function(number_of_loops)"
   ]
  },
  {
   "cell_type": "code",
   "execution_count": null,
   "id": "b1eadc1f-3e74-434b-baf7-3d79f8b4c03e",
   "metadata": {},
   "outputs": [
    {
     "data": {
      "text/plain": [
       "\"\\nPlease The following code SHOULD run and FINISH...but doesn't\\n\\nThis is an example of an infinite loop.  This is NOT a good thing to \\nhave in your code.  It will cause your code to run forever and never\\nfinish.  This is a problem because it will cause your code to use up\\nall of the resources on your computer and cause it to crash.\\n\\nPlease fix the code so that it runs and finishes.\\n\\nYou should only need to change two lines of code to fix this problem!\\n\""
      ]
     },
     "execution_count": 21,
     "metadata": {},
     "output_type": "execute_result"
    }
   ],
   "source": [
    "'''\n",
    "Please The following code SHOULD run and FINISH...but doesn't\n",
    "\n",
    "This is an example of an infinite loop.  This is NOT a good thing to \n",
    "have in your code.  It will cause your code to run forever and never\n",
    "finish.  This is a problem because it will cause your code to use up\n",
    "all of the resources on your computer and cause it to crash.\n",
    "\n",
    "Please fix the code so that it runs and finishes.\n",
    "\n",
    "You should only need to change two lines of code to fix this problem!\n",
    "'''"
   ]
  },
  {
   "cell_type": "code",
   "execution_count": null,
   "id": "6aaa23de-f5dd-4734-800c-650a3e59e666",
   "metadata": {},
   "outputs": [
    {
     "data": {
      "text/plain": [
       "'\\n\\nWelcome to week 3!\\n\\nPlease review and run the following code to see how conditionals and loops work!\\n\\nYou can play around with the value(s) to have hte program show different branches!\\n\\n'"
      ]
     },
     "execution_count": 1,
     "metadata": {},
     "output_type": "execute_result"
    }
   ],
   "source": [
    "#\n",
    "\n",
    "'''\n",
    "\n",
    "Welcome to week 3!\n",
    "\n",
    "Please review and run the following code to see how conditionals and loops work!\n",
    "\n",
    "You can play around with the value(s) to have hte program show different branches!\n",
    "\n",
    "'''"
   ]
  },
  {
   "cell_type": "code",
   "execution_count": null,
   "id": "b6bc16e6-1499-47be-ae15-5ff2ffb88f78",
   "metadata": {},
   "outputs": [
    {
     "name": "stdout",
     "output_type": "stream",
     "text": [
      "0 is even!\n",
      "1 is an odd number!\n",
      "2 is even!\n",
      "3 is an odd number!\n",
      "4 is even!\n",
      "5 is an odd number!\n",
      "6 is even!\n",
      "7 is an odd number!\n",
      "8 is even!\n",
      "9 is an odd number!\n",
      "Done!\n"
     ]
    }
   ],
   "source": [
    "# Looping Function\n",
    "\n",
    "def loop_function(x):\n",
    "\n",
    "    # Here is an example of a \"for\" loop\n",
    "    for i in range(x):\n",
    "\n",
    "        # Here is an example of a conditional statement\n",
    "        # If hte remainder of i divided by 2 is 0, then it is an even number\n",
    "        if i % 2 == 0:\n",
    "            print(i, \"is even!\")\n",
    "        else:\n",
    "            print(i, \"is an odd number!\")\n",
    "\n",
    "    print(\"Done!\")\n",
    "\n",
    "\n",
    "number_of_loops = 10\n",
    "\n",
    "loop_function(number_of_loops)"
   ]
  },
  {
   "cell_type": "code",
   "execution_count": null,
   "id": "21e2909c-ee10-4db5-bd27-6c8d59facf93",
   "metadata": {},
   "outputs": [
    {
     "name": "stdout",
     "output_type": "stream",
     "text": [
      "0 is even!\n",
      "1 is odd!\n",
      "2 is even!\n",
      "3 is odd!\n",
      "4 is even!\n",
      "5 is odd!\n",
      "6 is even!\n",
      "7 is odd!\n",
      "8 is even!\n",
      "9 is odd!\n",
      "Done!\n"
     ]
    }
   ],
   "source": [
    "# Looping Function\n",
    "\n",
    "def loop_function(x):\n",
    "    # Here is an example of a \"for\" loop\n",
    "    for i in range(x):\n",
    "        # Here is an example of a conditional statement\n",
    "        # If the remainder of i divided by 2 is 0, then it is an even number\n",
    "        if i % 2 == 0:\n",
    "            print(i, \"is even!\")\n",
    "        else:\n",
    "            print(i, \"is odd!\")\n",
    "\n",
    "    print(\"Done!\")\n",
    "\n",
    "# Define the number of loops\n",
    "number_of_loops = 10\n",
    "\n",
    "# Call the function with the specified number of loops\n",
    "loop_function(number_of_loops)"
   ]
  },
  {
   "cell_type": "code",
   "execution_count": null,
   "id": "408b102e-0014-463c-92a7-f0c6060b59de",
   "metadata": {},
   "outputs": [
    {
     "data": {
      "text/plain": [
       "\"\\nPlease The following code SHOULD run and FINISH...but doesn't\\n\\nThis is an example of an infinite loop.  This is NOT a good thing to \\nhave in your code.  It will cause your code to run forever and never\\nfinish.  This is a problem because it will cause your code to use up\\nall of the resources on your computer and cause it to crash.\\n\\nPlease fix the code so that it runs and finishes.\\n\\nYou should only need to change two lines of code to fix this problem!\\n\""
      ]
     },
     "execution_count": 4,
     "metadata": {},
     "output_type": "execute_result"
    }
   ],
   "source": [
    "'''\n",
    "Please The following code SHOULD run and FINISH...but doesn't\n",
    "\n",
    "This is an example of an infinite loop.  This is NOT a good thing to \n",
    "have in your code.  It will cause your code to run forever and never\n",
    "finish.  This is a problem because it will cause your code to use up\n",
    "all of the resources on your computer and cause it to crash.\n",
    "\n",
    "Please fix the code so that it runs and finishes.\n",
    "\n",
    "You should only need to change two lines of code to fix this problem!\n",
    "'''"
   ]
  },
  {
   "cell_type": "code",
   "execution_count": null,
   "id": "55503fe5-de37-4b7b-a311-e5a237e720b8",
   "metadata": {},
   "outputs": [
    {
     "data": {
      "text/plain": [
       "'\\n\\nWelcome to week 3!\\n\\nPlease review and run the following code to see how conditionals and loops work!\\n\\nYou can play around with the value(s) to have hte program show different branches!\\n\\n'"
      ]
     },
     "execution_count": 7,
     "metadata": {},
     "output_type": "execute_result"
    }
   ],
   "source": [
    "#\n",
    "\n",
    "'''\n",
    "\n",
    "Welcome to week 3!\n",
    "\n",
    "Please review and run the following code to see how conditionals and loops work!\n",
    "\n",
    "You can play around with the value(s) to have hte program show different branches!\n",
    "\n",
    "'''"
   ]
  },
  {
   "cell_type": "code",
   "execution_count": null,
   "id": "0b345d31-3d38-4e7c-a713-e9ceae4ae3b8",
   "metadata": {},
   "outputs": [
    {
     "name": "stdout",
     "output_type": "stream",
     "text": [
      "0 is even!\n",
      "1 is an odd number!\n",
      "2 is even!\n",
      "3 is an odd number!\n",
      "4 is even!\n",
      "5 is an odd number!\n",
      "6 is even!\n",
      "7 is an odd number!\n",
      "8 is even!\n",
      "9 is an odd number!\n",
      "Done!\n"
     ]
    }
   ],
   "source": [
    "# Looping Function\n",
    "\n",
    "def loop_function(x):\n",
    "\n",
    "    # Here is an example of a \"for\" loop\n",
    "    for i in range(x):\n",
    "\n",
    "        # Here is an example of a conditional statement\n",
    "        # If hte remainder of i divided by 2 is 0, then it is an even number\n",
    "        if i % 2 == 0:\n",
    "            print(i, \"is even!\")\n",
    "        else:\n",
    "            print(i, \"is an odd number!\")\n",
    "\n",
    "    print(\"Done!\")\n",
    "\n",
    "\n",
    "number_of_loops = 10\n",
    "\n",
    "loop_function(number_of_loops)"
   ]
  },
  {
   "cell_type": "code",
   "execution_count": null,
   "id": "93cba054-77dd-4ac8-a71b-c1c079c8ac82",
   "metadata": {},
   "outputs": [
    {
     "name": "stdout",
     "output_type": "stream",
     "text": [
      "0 is even!\n",
      "1 is odd!\n",
      "2 is even!\n",
      "3 is odd!\n",
      "4 is even!\n",
      "5 is odd!\n",
      "6 is even!\n",
      "7 is odd!\n",
      "8 is even!\n",
      "9 is odd!\n",
      "Done!\n"
     ]
    }
   ],
   "source": [
    "# Looping Function\n",
    "\n",
    "def loop_function(x):\n",
    "    # Here is an example of a \"for\" loop\n",
    "    for i in range(x):\n",
    "        # Here is an example of a conditional statement\n",
    "        # If the remainder of i divided by 2 is 0, then it is an even number\n",
    "        if i % 2 == 0:\n",
    "            print(i, \"is even!\")\n",
    "        else:\n",
    "            print(i, \"is odd!\")\n",
    "\n",
    "    print(\"Done!\")\n",
    "\n",
    "# Define the number of loops\n",
    "number_of_loops = 10\n",
    "\n",
    "# Call the function with the specified number of loops\n",
    "loop_function(number_of_loops)"
   ]
  },
  {
   "cell_type": "code",
   "execution_count": null,
   "id": "f27ee158-5722-4595-a530-ab480dcd04ab",
   "metadata": {},
   "outputs": [
    {
     "data": {
      "text/plain": [
       "\"\\nPlease The following code SHOULD run and FINISH...but doesn't\\n\\nThis is an example of an infinite loop.  This is NOT a good thing to \\nhave in your code.  It will cause your code to run forever and never\\nfinish.  This is a problem because it will cause your code to use up\\nall of the resources on your computer and cause it to crash.\\n\\nPlease fix the code so that it runs and finishes.\\n\\nYou should only need to change two lines of code to fix this problem!\\n\""
      ]
     },
     "execution_count": 10,
     "metadata": {},
     "output_type": "execute_result"
    }
   ],
   "source": [
    "'''\n",
    "Please The following code SHOULD run and FINISH...but doesn't\n",
    "\n",
    "This is an example of an infinite loop.  This is NOT a good thing to \n",
    "have in your code.  It will cause your code to run forever and never\n",
    "finish.  This is a problem because it will cause your code to use up\n",
    "all of the resources on your computer and cause it to crash.\n",
    "\n",
    "Please fix the code so that it runs and finishes.\n",
    "\n",
    "You should only need to change two lines of code to fix this problem!\n",
    "'''"
   ]
  },
  {
   "cell_type": "code",
   "execution_count": null,
   "id": "00f3cf2e-33ef-4062-9cb8-55bd63fd9167",
   "metadata": {},
   "outputs": [
    {
     "name": "stdout",
     "output_type": "stream",
     "text": [
      "Testing i = 0\n",
      "Testing i = 1\n",
      "Testing i = 2\n",
      "Testing i = 3\n",
      "Testing i = 4\n",
      "Testing i = 5\n",
      "Testing i = 6\n",
      "Testing i = 7\n",
      "Testing i = 8\n",
      "Testing i = 9\n"
     ]
    }
   ],
   "source": [
    "# Code \n",
    "\n",
    "finished_program = False\n",
    "i = 0 # Move i outside the loop\n",
    "\n",
    "while finished_program == False:\n",
    "    \n",
    "    print(f'Testing i = {i}')\n",
    "\n",
    "    i += 1 # Increment before checking the condition   \n",
    "\n",
    "    if i == 10:\n",
    "        finished_program = True"
   ]
  },
  {
   "cell_type": "code",
   "execution_count": null,
   "id": "67f956f8-2f81-4c34-af4c-e2abb7ad5b55",
   "metadata": {},
   "outputs": [
    {
     "name": "stdout",
     "output_type": "stream",
     "text": [
      "Testing i = 0\n",
      "Testing i = 1\n",
      "Testing i = 2\n",
      "Testing i = 3\n",
      "Testing i = 4\n",
      "Testing i = 5\n",
      "Testing i = 6\n",
      "Testing i = 7\n",
      "Testing i = 8\n",
      "Testing i = 9\n"
     ]
    }
   ],
   "source": [
    "# Code \n",
    "\n",
    "finished_program = False\n",
    "i = 0 # Move i outside the loop\n",
    "\n",
    "while finished_program == False:\n",
    "    \n",
    "    print(f'Testing i = {i}')\n",
    "\n",
    "    i += 1 # Increment before checking the condition   \n",
    "\n",
    "    if i == 10:\n",
    "        finished_program = True"
   ]
  },
  {
   "cell_type": "code",
   "execution_count": null,
   "id": "5f837f23-1e8c-41d9-a39c-fcdcb454a650",
   "metadata": {},
   "outputs": [
    {
     "name": "stdout",
     "output_type": "stream",
     "text": [
      "Testing i = 0\n",
      "Testing i = 1\n",
      "Testing i = 2\n",
      "Testing i = 3\n",
      "Testing i = 4\n",
      "Testing i = 5\n",
      "Testing i = 6\n",
      "Testing i = 7\n",
      "Testing i = 8\n",
      "Testing i = 9\n"
     ]
    }
   ],
   "source": [
    "# Code \n",
    "\n",
    "finished_program = False\n",
    "i = 0 # Move i outside the loop\n",
    "\n",
    "while finished_program == False:\n",
    "    \n",
    "    print(f'Testing i = {i}')\n",
    "\n",
    "    i += 1 # Increment before checking the condition   \n",
    "\n",
    "    if i == 10:\n",
    "        finished_program = True"
   ]
  },
  {
   "cell_type": "code",
   "execution_count": null,
   "id": "4ef9aa03-b495-4cc6-b4c4-7183bb8b5bf6",
   "metadata": {},
   "outputs": [
    {
     "name": "stdout",
     "output_type": "stream",
     "text": [
      "The sum of the numbers is: 150\n",
      "The average of the numbers is: 30.0\n",
      "The largest number in the list is: 50\n"
     ]
    }
   ],
   "source": [
    "# Define  a list of numbers\n",
    "numbers = [10,20,30,40,50] \n",
    "\n",
    "# Problem 1: Calculate and print the sum of all the numbers \n",
    "total_sum = sum(numbers)\n",
    "print(f'The sum of the numbers is: {total_sum}')\n",
    "\n",
    "# Problem 2: Calculate and print the average of all the numbers\n",
    "average = total_sum / len(numbers) if numbers else 0\n",
    "print(f'The average of the numbers is: {average}')\n",
    "\n",
    "# Problem 3: Find and print the largest number in the list\n",
    "largest_number = max(numbers) if numbers else None  \n",
    "print(f'The largest number in the list is: {largest_number}')"
   ]
  }
 ],
 "metadata": {
  "language_info": {
   "codemirror_mode": {
    "name": "ipython",
    "version": 3
   },
   "file_extension": ".py",
   "mimetype": "text/x-python",
   "name": "python",
   "nbconvert_exporter": "python",
   "pygments_lexer": "ipython3",
   "version": 3
  }
 },
 "nbformat": 4,
 "nbformat_minor": 2
}
