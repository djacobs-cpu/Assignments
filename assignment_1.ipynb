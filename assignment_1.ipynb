{
 "cells": [
  {
   "cell_type": "markdown",
   "metadata": {},
   "source": [
    "Connected to Python 3.13.1"
   ]
  },
  {
   "cell_type": "code",
   "execution_count": null,
   "metadata": {},
   "outputs": [
    {
     "name": "stdout",
     "output_type": "stream",
     "text": [
      "Hello World\n"
     ]
    }
   ],
   "source": [
    "print('Hello World')"
   ]
  },
  {
   "cell_type": "markdown",
   "metadata": {},
   "source": [
    "Connected to Python 3.13.1"
   ]
  },
  {
   "cell_type": "code",
   "execution_count": null,
   "id": "f9b965ad-812a-4a98-9d63-be350f96f1a3",
   "metadata": {},
   "outputs": [
    {
     "name": "stdout",
     "output_type": "stream",
     "text": [
      "Data Check: Dom, 23, 5.11, True\n",
      "Displaying Values:\n",
      "Name: Dom\n",
      "Age: 23\n",
      "Height: 5.11\n",
      "Is Student: True\n"
     ]
    }
   ],
   "source": [
    "# Define the function to check data\n",
    "def dataCheck(name, age, height, is_student):\n",
    "    return f\"Data Check: {name}, {age}, {height}, {is_student}\"\n",
    "\n",
    "# Define the function to display values\n",
    "def displayValues(name, age, height, is_student):\n",
    "    print(\"Displaying Values:\")\n",
    "    print(f\"Name: {name}\")\n",
    "    print(f\"Age: {age}\")\n",
    "    print(f\"Height: {height}\")\n",
    "    print(f\"Is Student: {is_student}\")\n",
    "\n",
    "# Variable Manipulation\n",
    "name = \"Dom\"          # String\n",
    "age = 23              # Integer\n",
    "height = 5.11         # Float\n",
    "is_student = True     # Boolean\n",
    "\n",
    "# Call the dataCheck function\n",
    "message = dataCheck(name, age, height, is_student)\n",
    "\n",
    "# Output the dataCheck message\n",
    "print(message)\n",
    "\n",
    "# Display the manipulated values\n",
    "displayValues(name, age, height, is_student)"
   ]
  },
  {
   "cell_type": "code",
   "execution_count": null,
   "id": "d52d49ec-2a9f-4672-9e22-b9817598fdbe",
   "metadata": {},
   "outputs": [
    {
     "name": "stdout",
     "output_type": "stream",
     "text": [
      "data Check: Dom, 23, 5.11, True\n",
      "Displaying Values:\n",
      "Name: Dom\n",
      "Age: 23\n",
      "Height: 5.11\n",
      "Is student: True\n"
     ]
    }
   ],
   "source": [
    "# Define the function to check data\n",
    "def dataCheck(name, age, height, is_student):\n",
    "    return f\"data Check: {name}, {age}, {height}, {is_student}\"\n",
    "\n",
    "    # Define the function to display values\n",
    "def displayValues(name, age, height, is_student):\n",
    "    print(\"Displaying Values:\")\n",
    "    print(f\"Name: {name}\")\n",
    "    print(f\"Age: {age}\")\n",
    "    print(f\"Height: {height}\")\n",
    "    print(f\"Is student: {is_student}\")\n",
    "\n",
    "# Variable Manipulation\n",
    "name = \"Dom\"          # String\n",
    "age = 23              # Integer\n",
    "height = 5.11         # Float\n",
    "is_student = True     # Boolean\n",
    "\n",
    "# Call the dataCheck function\n",
    "message = dataCheck(name, age, height, is_student)\n",
    "\n",
    "# Output the datCheck message \n",
    "print(message)\n",
    "\n",
    "# Display the manipulated values\n",
    "displayValues(name, age, height, is_student)"
   ]
  },
  {
   "cell_type": "code",
   "execution_count": null,
   "id": "1a44965d-32be-42e5-b28b-bf3ebf88b31c",
   "metadata": {},
   "outputs": [
    {
     "name": "stdout",
     "output_type": "stream",
     "text": [
      "Year 1: 2025\n",
      "Year 2: 2028\n",
      "Difference: 3\n"
     ]
    }
   ],
   "source": [
    "# First Assignment\n",
    "year1 = int(input(\"Enter year 1: \"))\n",
    "year2 = int(input(\"Enter year 2: \"))\n",
    "difference = abs (year2 - year1)\n",
    "\n",
    "print(f\"Year 1: {year1}\")\n",
    "print(f\"Year 2: {year2}\")\n",
    "print(f\"Difference: {difference}\")"
   ]
  },
  {
   "cell_type": "code",
   "execution_count": null,
   "id": "9774e625-7ceb-47da-bc5a-c3852476a9c1",
   "metadata": {},
   "outputs": [
    {
     "name": "stdout",
     "output_type": "stream",
     "text": [
      "Fahrenheit: 25.0\n",
      "celsius: -3.89\n"
     ]
    }
   ],
   "source": [
    "# Second Assignment\n",
    "fahrenheit = float(input(\"Enter temperature in fahrenheit: \"))\n",
    "celsius = (fahrenheit - 32) * 5/9\n",
    "\n",
    "print(f\"Fahrenheit: {fahrenheit}\")\n",
    "print(f\"celsius: {celsius:.2f}\")"
   ]
  },
  {
   "cell_type": "code",
   "execution_count": null,
   "id": "7780e014-4cfd-49ee-a66b-9c821b7864b8",
   "metadata": {},
   "outputs": [
    {
     "name": "stdout",
     "output_type": "stream",
     "text": [
      "USD: 1.0\n",
      "EU: 0.97\n"
     ]
    }
   ],
   "source": [
    "# Third Assignment \n",
    "usd = float(input(\"Enter amount in US Dollars: \"))\n",
    "euro = usd * 0.97\n",
    "\n",
    "print(f\"USD: {usd}\")\n",
    "print(f\"EU: {euro:.2f}\")"
   ]
  },
  {
   "cell_type": "markdown",
   "metadata": {},
   "source": [
    "No kernel connected"
   ]
  },
  {
   "cell_type": "markdown",
   "metadata": {},
   "source": [
    "No kernel connected"
   ]
  }
 ],
 "metadata": {
  "language_info": {
   "codemirror_mode": {
    "name": "ipython",
    "version": 3
   },
   "file_extension": ".py",
   "mimetype": "text/x-python",
   "name": "python",
   "nbconvert_exporter": "python",
   "pygments_lexer": "ipython3",
   "version": 3
  }
 },
 "nbformat": 4,
 "nbformat_minor": 2
}
